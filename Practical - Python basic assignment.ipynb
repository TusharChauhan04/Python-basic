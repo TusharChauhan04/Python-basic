{
 "cells": [
  {
   "cell_type": "code",
   "execution_count": 2,
   "id": "cbfbc500-b12f-4a56-82c4-f410818c9841",
   "metadata": {},
   "outputs": [],
   "source": [
    "#Practical python basic"
   ]
  },
  {
   "cell_type": "code",
   "execution_count": 3,
   "id": "d518f2ae-0157-413d-8250-d3a4aa550c69",
   "metadata": {},
   "outputs": [
    {
     "name": "stdout",
     "output_type": "stream",
     "text": [
      "Hello, World!\n"
     ]
    }
   ],
   "source": [
    "# 1. Write a Python program to print \"Hello, World!\"\n",
    "\n",
    "print(\"Hello, World!\")"
   ]
  },
  {
   "cell_type": "code",
   "execution_count": 9,
   "id": "c07cf4a9-b0bc-4da2-9cda-88cf29772a51",
   "metadata": {},
   "outputs": [
    {
     "name": "stdout",
     "output_type": "stream",
     "text": [
      "My name is Tushar Chauhan and i am 21 old\n"
     ]
    }
   ],
   "source": [
    "# 2. Write a Python program that displays your name and age. \n",
    "\n",
    "Name = \"Tushar Chauhan\"\n",
    "age = 21\n",
    "\n",
    "print(f\"My name is {Name} and i am {age} old\")"
   ]
  },
  {
   "cell_type": "code",
   "execution_count": 10,
   "id": "6af6d39f-15bb-4123-bcc6-1cd7145d83fd",
   "metadata": {},
   "outputs": [
    {
     "name": "stdout",
     "output_type": "stream",
     "text": [
      "\n",
      "Here is a list of the Python keywords.  Enter any keyword to get more help.\n",
      "\n",
      "False               class               from                or\n",
      "None                continue            global              pass\n",
      "True                def                 if                  raise\n",
      "and                 del                 import              return\n",
      "as                  elif                in                  try\n",
      "assert              else                is                  while\n",
      "async               except              lambda              with\n",
      "await               finally             nonlocal            yield\n",
      "break               for                 not                 \n",
      "\n"
     ]
    }
   ],
   "source": [
    "# 3.  Write code to print all the pre-defined keywords in Python using the keyword library. \n",
    "\n",
    "help(\"keywords\")"
   ]
  },
  {
   "cell_type": "code",
   "execution_count": 14,
   "id": "dfc0c1eb-6b95-4c5c-8b38-fe7ea2573ddd",
   "metadata": {},
   "outputs": [
    {
     "name": "stdout",
     "output_type": "stream",
     "text": [
      "\"None\" is a Python keyword.\n"
     ]
    }
   ],
   "source": [
    "# 4. Write a program that checks if a given word is a Python keyword. \n",
    "\n",
    "import keyword\n",
    "\n",
    "word = \"None\"\n",
    "if keyword.iskeyword(word):\n",
    "    print(f'\"{word}\" is a Python keyword.')\n",
    "else:\n",
    "    print(\"False\")\n"
   ]
  },
  {
   "cell_type": "code",
   "execution_count": 23,
   "id": "331f1951-c7a8-46eb-a577-44d00e8fb9c4",
   "metadata": {},
   "outputs": [
    {
     "name": "stdout",
     "output_type": "stream",
     "text": [
      "[1, 2, 3, 5.5, 'Ajay', (4+3j)]\n",
      "[1, 2, 3, 10, 'Ajay', (4+3j)]\n",
      "(1, 2, 3, 4)\n"
     ]
    },
    {
     "ename": "TypeError",
     "evalue": "'tuple' object does not support item assignment",
     "output_type": "error",
     "traceback": [
      "\u001b[31m---------------------------------------------------------------------------\u001b[39m",
      "\u001b[31mTypeError\u001b[39m                                 Traceback (most recent call last)",
      "\u001b[36mCell\u001b[39m\u001b[36m \u001b[39m\u001b[32mIn[23]\u001b[39m\u001b[32m, line 16\u001b[39m\n\u001b[32m     12\u001b[39m b = (\u001b[32m1\u001b[39m,\u001b[32m2\u001b[39m,\u001b[32m3\u001b[39m,\u001b[32m4\u001b[39m)\n\u001b[32m     14\u001b[39m \u001b[38;5;28mprint\u001b[39m(b)\n\u001b[32m---> \u001b[39m\u001b[32m16\u001b[39m \u001b[43mb\u001b[49m\u001b[43m[\u001b[49m\u001b[32;43m2\u001b[39;49m\u001b[43m]\u001b[49m = \u001b[32m10\u001b[39m\n\u001b[32m     17\u001b[39m \u001b[38;5;28mprint\u001b[39m(b)\n\u001b[32m     19\u001b[39m \u001b[38;5;28mprint\u001b[39m(\u001b[33m\"\u001b[39m\u001b[33mTuple remains unchanged:\u001b[39m\u001b[33m\"\u001b[39m, b)\n",
      "\u001b[31mTypeError\u001b[39m: 'tuple' object does not support item assignment"
     ]
    }
   ],
   "source": [
    "# 5. Create a list and tuple in Python, and demonstrate how attempting to change an element works differently for each. \n",
    "\n",
    "# List\n",
    "a = [1,2,3,5.5, \"Ajay\", 3j+4]\n",
    "\n",
    "print(a)\n",
    "\n",
    "a[3] = 10\n",
    "print(a)\n",
    "\n",
    "# tuple \n",
    "b = (1,2,3,4)\n",
    "\n",
    "print(b)\n",
    "\n",
    "b[2] = 10\n",
    "print(b)\n",
    "\n",
    "print(\"Tuple remains unchanged:\", b)"
   ]
  },
  {
   "cell_type": "code",
   "execution_count": 31,
   "id": "4510efce-2c25-4dca-9d61-aa6aec0c5b2c",
   "metadata": {},
   "outputs": [
    {
     "name": "stdout",
     "output_type": "stream",
     "text": [
      "[1, 2, 3, 5.5, 'Ajay', (4+3j)]\n",
      "[1, 2, 3, 10, 'Ajay', (4+3j)]\n",
      "(1, 2, 3, 4)\n"
     ]
    },
    {
     "ename": "TypeError",
     "evalue": "'tuple' object does not support item assignment",
     "output_type": "error",
     "traceback": [
      "\u001b[31m---------------------------------------------------------------------------\u001b[39m",
      "\u001b[31mTypeError\u001b[39m                                 Traceback (most recent call last)",
      "\u001b[36mCell\u001b[39m\u001b[36m \u001b[39m\u001b[32mIn[31]\u001b[39m\u001b[32m, line 16\u001b[39m\n\u001b[32m     12\u001b[39m b = (\u001b[32m1\u001b[39m,\u001b[32m2\u001b[39m,\u001b[32m3\u001b[39m,\u001b[32m4\u001b[39m)\n\u001b[32m     14\u001b[39m \u001b[38;5;28mprint\u001b[39m(b)\n\u001b[32m---> \u001b[39m\u001b[32m16\u001b[39m \u001b[43mb\u001b[49m\u001b[43m[\u001b[49m\u001b[32;43m2\u001b[39;49m\u001b[43m]\u001b[49m = \u001b[32m10\u001b[39m\n\u001b[32m     17\u001b[39m \u001b[38;5;28mprint\u001b[39m(b)\n\u001b[32m     19\u001b[39m \u001b[38;5;28mprint\u001b[39m(\u001b[33m\"\u001b[39m\u001b[33mimmutable behavior\u001b[39m\u001b[33m\"\u001b[39m, b)\n",
      "\u001b[31mTypeError\u001b[39m: 'tuple' object does not support item assignment"
     ]
    }
   ],
   "source": [
    "# 6. Write a function to demonstrate the behavior of mutable and immutable arguments. \n",
    "\n",
    "# mutable behaviour\n",
    "a = [1,2,3,5.5, \"Ajay\", 3j+4]\n",
    "\n",
    "print(a)\n",
    "\n",
    "a[3] = 10\n",
    "print(a)\n",
    "\n",
    "# immutable behavior \n",
    "b = (1,2,3,4)\n",
    "\n",
    "print(b)\n",
    "\n",
    "b[2] = 10\n",
    "print(b)\n",
    "\n",
    "print(\"immutable behavior\", b)"
   ]
  },
  {
   "cell_type": "code",
   "execution_count": 34,
   "id": "27086d48-74e3-4fc4-ba63-7b503207f226",
   "metadata": {},
   "outputs": [
    {
     "name": "stdin",
     "output_type": "stream",
     "text": [
      "Enter first number 5\n",
      "Enter second number 10\n"
     ]
    },
    {
     "name": "stdout",
     "output_type": "stream",
     "text": [
      "Addition: 15\n",
      "Subtraction: -5\n",
      "Multiplication: 50\n"
     ]
    }
   ],
   "source": [
    "# 7.  Write a program that performs basic arithmetic operations on two user-input numbers. \n",
    "\n",
    "a = int(input(\"Enter first number\"))\n",
    "b = int(input(\"Enter second number\"))\n",
    "print(\"Addition:\", a + b)\n",
    "print(\"Subtraction:\", a - b)\n",
    "print(\"Multiplication:\", a * b)"
   ]
  },
  {
   "cell_type": "code",
   "execution_count": 38,
   "id": "6d493c0b-9f73-45e4-9e5e-5e2f6ea33a3e",
   "metadata": {},
   "outputs": [
    {
     "name": "stdout",
     "output_type": "stream",
     "text": [
      "False\n",
      "True\n",
      "False\n",
      "False\n",
      "True\n",
      "True\n",
      "True\n",
      "False\n"
     ]
    }
   ],
   "source": [
    "# 8.  Write a program to demonstrate the use of logical operators\n",
    "\n",
    "a = True\n",
    "b = False\n",
    "\n",
    "print(a and b)\n",
    "print(a and a)\n",
    "print(b and a)\n",
    "print(b and b)\n",
    "\n",
    "\n",
    "print(a or b)\n",
    "print(a or a)\n",
    "print(b or a)\n",
    "print(b or b)"
   ]
  },
  {
   "cell_type": "code",
   "execution_count": 39,
   "id": "7a5317c0-baa5-4633-9309-946d7ccfac1e",
   "metadata": {},
   "outputs": [
    {
     "name": "stdin",
     "output_type": "stream",
     "text": [
      "Enter your value 21\n"
     ]
    },
    {
     "name": "stdout",
     "output_type": "stream",
     "text": [
      "Int: 21 Float: 21.0 Bool: True\n"
     ]
    }
   ],
   "source": [
    "# 9. Write a Python program to convert user input from string to integer, float, and boolean types.\n",
    "\n",
    "user_input = input(\"Enter your value\")\n",
    "as_int = int(user_input)\n",
    "as_float = float(user_input)\n",
    "as_bool = bool(user_input)\n",
    "\n",
    "print(\"Int:\", as_int, \"Float:\", as_float, \"Bool:\", as_bool)"
   ]
  },
  {
   "cell_type": "code",
   "execution_count": 46,
   "id": "ea0f511b-587b-42e2-af85-1782e205ec60",
   "metadata": {},
   "outputs": [
    {
     "ename": "TypeError",
     "evalue": "list indices must be integers or slices, not str",
     "output_type": "error",
     "traceback": [
      "\u001b[31m---------------------------------------------------------------------------\u001b[39m",
      "\u001b[31mTypeError\u001b[39m                                 Traceback (most recent call last)",
      "\u001b[36mCell\u001b[39m\u001b[36m \u001b[39m\u001b[32mIn[46]\u001b[39m\u001b[32m, line 4\u001b[39m\n\u001b[32m      1\u001b[39m \u001b[38;5;66;03m# 10. Write code to demonstrate type casting with list elements.\u001b[39;00m\n\u001b[32m      3\u001b[39m str_list = [\u001b[33m'\u001b[39m\u001b[33m1\u001b[39m\u001b[33m'\u001b[39m, \u001b[33m'\u001b[39m\u001b[33m2\u001b[39m\u001b[33m'\u001b[39m, \u001b[33m'\u001b[39m\u001b[33m3\u001b[39m\u001b[33m'\u001b[39m, \u001b[33m'\u001b[39m\u001b[33m4\u001b[39m\u001b[33m'\u001b[39m]\n\u001b[32m----> \u001b[39m\u001b[32m4\u001b[39m \u001b[43mstr_list\u001b[49m\u001b[43m[\u001b[49m\u001b[33;43m'\u001b[39;49m\u001b[33;43m1\u001b[39;49m\u001b[33;43m'\u001b[39;49m\u001b[43m]\u001b[49m = \u001b[32m1\u001b[39m\n",
      "\u001b[31mTypeError\u001b[39m: list indices must be integers or slices, not str"
     ]
    }
   ],
   "source": [
    "# 10. Write code to demonstrate type casting with list elements.\n",
    "\n",
    "str_list = ['1', '2', '3', '4']\n",
    "str_list['1'] = 1"
   ]
  },
  {
   "cell_type": "code",
   "execution_count": 52,
   "id": "a2efa3ae-f050-4837-bc27-582e0fd6ac10",
   "metadata": {},
   "outputs": [
    {
     "name": "stdin",
     "output_type": "stream",
     "text": [
      "Enter your number -45\n"
     ]
    },
    {
     "name": "stdout",
     "output_type": "stream",
     "text": [
      "The number is negative\n"
     ]
    }
   ],
   "source": [
    "# 11.  Write a program that checks if a number is positive, negative, or zero.\n",
    "\n",
    "num = float(input(\"Enter your number\"))\n",
    "if num > 0:\n",
    "    print(\"The number is positive:\", num)\n",
    "elif num == 0:\n",
    "    print(\"The number is zero\")\n",
    "else:\n",
    "    print(\"The number is negative\")\n"
   ]
  },
  {
   "cell_type": "code",
   "execution_count": 55,
   "id": "89cc6297-232d-484b-97f9-f79ce926f4de",
   "metadata": {},
   "outputs": [
    {
     "name": "stdout",
     "output_type": "stream",
     "text": [
      "0\n",
      "1\n",
      "2\n",
      "3\n",
      "4\n",
      "5\n",
      "6\n",
      "7\n",
      "8\n",
      "9\n",
      "10\n"
     ]
    }
   ],
   "source": [
    "# 12. Write a for loop to print numbers from 1 to 10.\n",
    "\n",
    "for i in range(0,11):\n",
    "    print(i)"
   ]
  },
  {
   "cell_type": "code",
   "execution_count": 57,
   "id": "6dab0119-1957-4ec6-b9bb-fcbfbe8c91ba",
   "metadata": {},
   "outputs": [
    {
     "name": "stdout",
     "output_type": "stream",
     "text": [
      "Sum of even numbers between 1 and 50: 650\n"
     ]
    }
   ],
   "source": [
    "# 13. Write a Python program to find the sum of all even numbers between 1 and 50.\n",
    "\n",
    "sum_even = sum(i for i in range(2, 51, 2))\n",
    "print(\"Sum of even numbers between 1 and 50:\" ,sum_even)"
   ]
  },
  {
   "cell_type": "code",
   "execution_count": null,
   "id": "cd194960-9c07-4382-b47f-4084b373183e",
   "metadata": {},
   "outputs": [],
   "source": [
    "# 14. Write a program to reverse a string using a while loop. \n",
    "# 15. . Write a Python program to calculate the factorial of a number provided by the user using a while loop"
   ]
  }
 ],
 "metadata": {
  "kernelspec": {
   "display_name": "Python 3 (ipykernel)",
   "language": "python",
   "name": "python3"
  },
  "language_info": {
   "codemirror_mode": {
    "name": "ipython",
    "version": 3
   },
   "file_extension": ".py",
   "mimetype": "text/x-python",
   "name": "python",
   "nbconvert_exporter": "python",
   "pygments_lexer": "ipython3",
   "version": "3.13.7"
  }
 },
 "nbformat": 4,
 "nbformat_minor": 5
}
